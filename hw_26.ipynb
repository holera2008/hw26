{
  "nbformat": 4,
  "nbformat_minor": 0,
  "metadata": {
    "colab": {
      "provenance": [],
      "authorship_tag": "ABX9TyMqWikn3oQPj5+DfO5l0fjJ",
      "include_colab_link": true
    },
    "kernelspec": {
      "name": "python3",
      "display_name": "Python 3"
    },
    "language_info": {
      "name": "python"
    }
  },
  "cells": [
    {
      "cell_type": "markdown",
      "metadata": {
        "id": "view-in-github",
        "colab_type": "text"
      },
      "source": [
        "<a href=\"https://colab.research.google.com/github/holera2008/hw26/blob/main/hw_26.ipynb\" target=\"_parent\"><img src=\"https://colab.research.google.com/assets/colab-badge.svg\" alt=\"Open In Colab\"/></a>"
      ]
    },
    {
      "cell_type": "code",
      "execution_count": null,
      "metadata": {
        "id": "O0KeoeVrcnMg"
      },
      "outputs": [],
      "source": [
        "class Person:\n",
        "    def __init__(self, name, phone):\n",
        "        self.name = name\n",
        "        self.phone = phone\n",
        "\n",
        "    def __str__(self):\n",
        "        return f'Name: {self.name}, Phone: {self.phone}.'\n",
        "\n",
        "\n",
        "class Institution:\n",
        "    def __init__(self, name, hotline):\n",
        "        self.name = name\n",
        "        self.hotline = hotline\n",
        "\n",
        "    def __str__(self):\n",
        "        return f\"This institution's name is {self.name} and it's hotline number is {self.hotline}.\"\n",
        "\n",
        "\n",
        "class Store(Institution):\n",
        "    def __init__(self, name, hotline, kind, production):\n",
        "        super().__init__(name, hotline)\n",
        "        self.kind = kind\n",
        "        self.production = production\n",
        "\n",
        "    def __str__(self):\n",
        "        return f\"{self.name} is a {self.kind} and it's hotline number is {self.hotline}.\"\n",
        "\n",
        "    def get_supplies(self, provider):\n",
        "        return f'{self.name} received {provider.production} from {provider.name}.'\n",
        "\n",
        "\n",
        "class AgriculturalCompany(Institution):\n",
        "    def __init__(self, name, hotline, production):\n",
        "        super().__init__(name, hotline)\n",
        "        self.production = production\n",
        "\n",
        "    def supply(self, store):\n",
        "        return f'{self.name} supplied {store.name} with {self.production}.'\n",
        "\n",
        "    def __str__(self):\n",
        "        return f\"{self.name} is a provider company and it's hotline number is {self.hotline}.\"\n",
        "\n",
        "\n",
        "class MetallurgicalPlant(Institution):\n",
        "    def __init__(self, name, hotline, production):\n",
        "        super().__init__(name, hotline)\n",
        "        self.production = production\n",
        "\n",
        "    def supply(self, store):\n",
        "        return f'{self.name} supplied {store.name} with {self.production}.'\n",
        "\n",
        "    def __str__(self):\n",
        "        return f\"{self.name} is a provider company and it's hotline number is {self.hotline}.\"\n",
        "\n",
        "\n",
        "class TextileFactory(Institution):\n",
        "    def __init__(self, name, hotline, production):\n",
        "        super().__init__(name, hotline)\n",
        "        self.production = production\n",
        "\n",
        "    def supply(self, store):\n",
        "        return f'{self.name} supplied {store.name} with {self.production}.'\n",
        "\n",
        "    def __str__(self):\n",
        "        return f\"{self.name} is a provider company and it's hotline number is {self.hotline}.\"\n",
        "\n",
        "\n",
        "class Buyer(Person):\n",
        "    def __init__(self, name, phone):\n",
        "        super().__init__(name, phone)\n",
        "\n",
        "    def __str__(self):\n",
        "        return f\"Buyer's name is {self.name} and their phone number is {self.phone}.\"\n",
        "\n",
        "    def go_store(self, store):\n",
        "        return f'{self.name} went to a {store.kind} called {store.name} and bought some {store.production}.'\n",
        "\n",
        "\n",
        "store = Store('Silpo', 1234, 'grocery store', 'groceries')\n",
        "provider1 = AgriculturalCompany('AgroPlus', 2345, 'flour')\n",
        "provider2 = MetallurgicalPlant('IronMen', 3456, 'pans')\n",
        "provider3 = TextileFactory('Magabric', 4567, 'fabrics')\n",
        "buyer = Buyer('Maria', 123456789)\n",
        "print(store)\n",
        "print(provider2)\n",
        "print(provider3)\n",
        "print(store.get_supplies(provider1))\n",
        "print(buyer.go_store(store))\n",
        "print(provider1.supply(store))\n"
      ]
    }
  ]
}